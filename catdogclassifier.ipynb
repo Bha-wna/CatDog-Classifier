{
  "nbformat": 4,
  "nbformat_minor": 0,
  "metadata": {
    "colab": {
      "name": "catdogclassifier.ipynb",
      "provenance": [],
      "collapsed_sections": [],
      "authorship_tag": "ABX9TyOUZlbz1vkE1jSk/jtQbmd8",
      "include_colab_link": true
    },
    "kernelspec": {
      "name": "python3",
      "display_name": "Python 3"
    },
    "language_info": {
      "name": "python"
    }
  },
  "cells": [
    {
      "cell_type": "markdown",
      "metadata": {
        "id": "view-in-github",
        "colab_type": "text"
      },
      "source": [
        "<a href=\"https://colab.research.google.com/github/Bha-wna/JavaCode/blob/main/catdogclassifier.ipynb\" target=\"_parent\"><img src=\"https://colab.research.google.com/assets/colab-badge.svg\" alt=\"Open In Colab\"/></a>"
      ]
    },
    {
      "cell_type": "code",
      "metadata": {
        "id": "AuNtjm6cGSe5"
      },
      "source": [
        ""
      ],
      "execution_count": null,
      "outputs": []
    },
    {
      "cell_type": "code",
      "metadata": {
        "id": "deO7RzmxGSDP"
      },
      "source": [
        "! pip install kaggle\n",
        "! cp kaggle.json ~/.kaggle/\n",
        "! chmod 600 ~/.kaggle/kaggle.json\n",
        "! kaggle datasets download -d arpitjain007/dog-vs-cat-fastai\n",
        "\n",
        "! unzip dog-vs-cat-fastai.zip"
      ],
      "execution_count": null,
      "outputs": []
    },
    {
      "cell_type": "code",
      "metadata": {
        "id": "xUCeAVP3wETg"
      },
      "source": [
        "import numpy as np\n",
        "import cv2\n",
        "import os\n",
        "import random\n",
        "import matplotlib.pyplot as plt\n",
        "import pickle\n",
        "DIRECTORY = r'/content/dogscats/dogscats/train'\n",
        "CATEGORIES = ['cats','dogs']\n",
        "\n",
        "\n",
        "\n"
      ],
      "execution_count": 40,
      "outputs": []
    },
    {
      "cell_type": "code",
      "metadata": {
        "id": "wE9-9yHBKRCF"
      },
      "source": [
        "data = []\n",
        "\n",
        "for category in CATEGORIES:\n",
        "    path = os.path.join(DIRECTORY, category)\n",
        "    for img in os.listdir(path):\n",
        "        img_path = os.path.join(path, img)\n",
        "        label = CATEGORIES.index(category)\n",
        "        arr = cv2.imread(img_path, cv2.IMREAD_GRAYSCALE)\n",
        "        new_arr = cv2.resize(arr, (60, 60))\n",
        "        data.append([new_arr, label])"
      ],
      "execution_count": 41,
      "outputs": []
    },
    {
      "cell_type": "code",
      "metadata": {
        "id": "5uVDLWZ1GOTL"
      },
      "source": [
        "\n",
        "import random\n",
        "\n",
        "random.shuffle(data)\n"
      ],
      "execution_count": 42,
      "outputs": []
    },
    {
      "cell_type": "code",
      "metadata": {
        "id": "r1idd5rFGOhO"
      },
      "source": [
        "X = []\n",
        "y = []"
      ],
      "execution_count": 43,
      "outputs": []
    },
    {
      "cell_type": "code",
      "metadata": {
        "id": "qMi5-uVfGOrN"
      },
      "source": [
        "\n",
        "for features, label in data:\n",
        "    X.append(features)\n",
        "    y.append(label)"
      ],
      "execution_count": 45,
      "outputs": []
    },
    {
      "cell_type": "code",
      "metadata": {
        "id": "w8CkYgElLnUq"
      },
      "source": [
        "\n",
        "X = np.array(X)\n",
        "y = np.array(y)"
      ],
      "execution_count": 46,
      "outputs": []
    },
    {
      "cell_type": "code",
      "metadata": {
        "id": "YLQb8DE8Lox0"
      },
      "source": [
        "X = X/255"
      ],
      "execution_count": 47,
      "outputs": []
    },
    {
      "cell_type": "code",
      "metadata": {
        "id": "iQ6Y9gXwL31V"
      },
      "source": [
        "X = X.reshape(-1, 60, 60, 1)"
      ],
      "execution_count": 48,
      "outputs": []
    },
    {
      "cell_type": "code",
      "metadata": {
        "id": "P4f4HRpCL9j4"
      },
      "source": [
        "from keras.models import Sequential\n",
        "from keras.layers import Conv2D, MaxPooling2D, Dense, Flatten"
      ],
      "execution_count": 49,
      "outputs": []
    },
    {
      "cell_type": "code",
      "metadata": {
        "id": "lKhztYj7MB3Y"
      },
      "source": [
        "model = Sequential()\n",
        "\n",
        "model.add(Conv2D(64, (3,3), activation = 'relu'))\n",
        "model.add(MaxPooling2D((2,2)))\n",
        "\n",
        "model.add(Conv2D(64, (3,3), activation = 'relu'))\n",
        "model.add(MaxPooling2D((2,2)))\n",
        "\n",
        "model.add(Flatten())\n",
        "\n",
        "model.add(Dense(128, input_shape = X.shape[1:], activation = 'relu'))\n",
        "\n",
        "model.add(Dense(2, activation = 'softmax'))"
      ],
      "execution_count": 50,
      "outputs": []
    },
    {
      "cell_type": "code",
      "metadata": {
        "id": "UY_NEgBjMIf9"
      },
      "source": [
        "\n",
        "model.compile(optimizer='adam',\n",
        "              loss='sparse_categorical_crossentropy',\n",
        "              metrics=['accuracy'])"
      ],
      "execution_count": 51,
      "outputs": []
    },
    {
      "cell_type": "code",
      "metadata": {
        "colab": {
          "base_uri": "https://localhost:8080/"
        },
        "id": "yseOfydYMNTj",
        "outputId": "6f8871d8-2c64-4349-a8d1-f9a1c8cf4189"
      },
      "source": [
        "model.fit(X, y, epochs=5, validation_split=0.1)"
      ],
      "execution_count": 52,
      "outputs": [
        {
          "output_type": "stream",
          "text": [
            "Epoch 1/5\n",
            "1294/1294 [==============================] - 301s 232ms/step - loss: 0.5747 - accuracy: 0.6905 - val_loss: 0.4682 - val_accuracy: 0.7848\n",
            "Epoch 2/5\n",
            "1294/1294 [==============================] - 305s 236ms/step - loss: 0.4329 - accuracy: 0.7965 - val_loss: 0.4337 - val_accuracy: 0.8072\n",
            "Epoch 3/5\n",
            "1294/1294 [==============================] - 306s 236ms/step - loss: 0.3162 - accuracy: 0.8615 - val_loss: 0.2998 - val_accuracy: 0.8722\n",
            "Epoch 4/5\n",
            "1294/1294 [==============================] - 306s 236ms/step - loss: 0.1863 - accuracy: 0.9271 - val_loss: 0.1543 - val_accuracy: 0.9417\n",
            "Epoch 5/5\n",
            "1294/1294 [==============================] - 306s 236ms/step - loss: 0.0875 - accuracy: 0.9693 - val_loss: 0.1191 - val_accuracy: 0.9528\n"
          ],
          "name": "stdout"
        },
        {
          "output_type": "execute_result",
          "data": {
            "text/plain": [
              "<keras.callbacks.History at 0x7fedf395ba10>"
            ]
          },
          "metadata": {},
          "execution_count": 52
        }
      ]
    },
    {
      "cell_type": "markdown",
      "metadata": {
        "id": "QgqP_2WvMRSl"
      },
      "source": [
        "import cv2\n"
      ]
    },
    {
      "cell_type": "code",
      "metadata": {
        "id": "uIhxT0fkW60g"
      },
      "source": [
        "import cv2\n"
      ],
      "execution_count": 65,
      "outputs": []
    },
    {
      "cell_type": "code",
      "metadata": {
        "id": "Mt1wJjuBXAhd"
      },
      "source": [
        "import numpy as np\n"
      ],
      "execution_count": 66,
      "outputs": []
    },
    {
      "cell_type": "code",
      "metadata": {
        "id": "elHKW8-7XKxc"
      },
      "source": [
        "def image(path):\n",
        "    img = cv2.imread(path, cv2.IMREAD_GRAYSCALE)\n",
        "    new_arr = cv2.resize(img, (60, 60))\n",
        "    new_arr = np.array(new_arr)\n",
        "    new_arr = new_arr.reshape(-1, 60, 60, 1)\n",
        "    return new_arr"
      ],
      "execution_count": 67,
      "outputs": []
    },
    {
      "cell_type": "code",
      "metadata": {
        "colab": {
          "base_uri": "https://localhost:8080/"
        },
        "id": "8cYUoKnhXNQ-",
        "outputId": "ef693964-8276-47c6-d36e-8c1a0c34399a"
      },
      "source": [
        "\n",
        "prediction = model.predict([image('/content/dogscats/sample/train/cats/cat.11737.jpg')])\n",
        "print(CATEGORIES[prediction.argmax()])"
      ],
      "execution_count": 69,
      "outputs": [
        {
          "output_type": "stream",
          "text": [
            "cats\n"
          ],
          "name": "stdout"
        }
      ]
    }
  ]
}